{
 "cells": [
  {
   "cell_type": "code",
   "execution_count": 1,
   "id": "95e7c246-541f-4de5-90cb-86bc00543196",
   "metadata": {},
   "outputs": [],
   "source": [
    "import nltk\n",
    "from nltk.tokenize import word_tokenize\n",
    "from nltk.corpus import stopwords\n",
    "from nltk.stem import PorterStemmer , WordNetLemmatizer\n",
    "from nltk import pos_tag\n",
    "\n",
    "import string"
   ]
  },
  {
   "cell_type": "code",
   "execution_count": 2,
   "id": "a45caf21-1031-4a65-853c-1b18313f7b30",
   "metadata": {},
   "outputs": [],
   "source": [
    "sample_doc = \"Text analytics is the process of analyzing unstructured text data to derive meaningful insights and patterns.\""
   ]
  },
  {
   "cell_type": "code",
   "execution_count": 3,
   "id": "44334b60-2603-4b81-9e28-e89f54283c8d",
   "metadata": {},
   "outputs": [],
   "source": [
    "tokens = word_tokenize(sample_doc)"
   ]
  },
  {
   "cell_type": "code",
   "execution_count": 4,
   "id": "6ff499cb-c44c-4aba-a073-b81179f57999",
   "metadata": {},
   "outputs": [
    {
     "data": {
      "text/plain": [
       "['Text',\n",
       " 'analytics',\n",
       " 'is',\n",
       " 'the',\n",
       " 'process',\n",
       " 'of',\n",
       " 'analyzing',\n",
       " 'unstructured',\n",
       " 'text',\n",
       " 'data',\n",
       " 'to',\n",
       " 'derive',\n",
       " 'meaningful',\n",
       " 'insights',\n",
       " 'and',\n",
       " 'patterns',\n",
       " '.']"
      ]
     },
     "execution_count": 4,
     "metadata": {},
     "output_type": "execute_result"
    }
   ],
   "source": [
    "tokens"
   ]
  },
  {
   "cell_type": "code",
   "execution_count": 5,
   "id": "60adfb0a-398d-492e-922f-d67857955202",
   "metadata": {},
   "outputs": [],
   "source": [
    "pos_tags= pos_tag(tokens) "
   ]
  },
  {
   "cell_type": "code",
   "execution_count": 6,
   "id": "b84df333-81ed-401d-9a47-25e8d012fb5f",
   "metadata": {},
   "outputs": [
    {
     "data": {
      "text/plain": [
       "[('Text', 'NN'),\n",
       " ('analytics', 'NNS'),\n",
       " ('is', 'VBZ'),\n",
       " ('the', 'DT'),\n",
       " ('process', 'NN'),\n",
       " ('of', 'IN'),\n",
       " ('analyzing', 'VBG'),\n",
       " ('unstructured', 'JJ'),\n",
       " ('text', 'NN'),\n",
       " ('data', 'NNS'),\n",
       " ('to', 'TO'),\n",
       " ('derive', 'VB'),\n",
       " ('meaningful', 'JJ'),\n",
       " ('insights', 'NNS'),\n",
       " ('and', 'CC'),\n",
       " ('patterns', 'NNS'),\n",
       " ('.', '.')]"
      ]
     },
     "execution_count": 6,
     "metadata": {},
     "output_type": "execute_result"
    }
   ],
   "source": [
    "pos_tags"
   ]
  },
  {
   "cell_type": "code",
   "execution_count": 7,
   "id": "0011100b-e1f4-42e5-bde7-01f412e55336",
   "metadata": {},
   "outputs": [],
   "source": [
    "stopWords = set(stopwords.words('english'))"
   ]
  },
  {
   "cell_type": "code",
   "execution_count": 15,
   "id": "200e01d9-8cab-408a-a06a-1e318937f3d8",
   "metadata": {},
   "outputs": [],
   "source": [
    "filtered_tokens =  [word for word in tokens if word.lower() not in stopWords ]"
   ]
  },
  {
   "cell_type": "code",
   "execution_count": 16,
   "id": "01fec15a-0f03-4b21-b347-b4d8eff5f13d",
   "metadata": {},
   "outputs": [
    {
     "data": {
      "text/plain": [
       "['Text',\n",
       " 'analytics',\n",
       " 'process',\n",
       " 'analyzing',\n",
       " 'unstructured',\n",
       " 'text',\n",
       " 'data',\n",
       " 'derive',\n",
       " 'meaningful',\n",
       " 'insights',\n",
       " 'patterns',\n",
       " '.']"
      ]
     },
     "execution_count": 16,
     "metadata": {},
     "output_type": "execute_result"
    }
   ],
   "source": [
    "filtered_tokens"
   ]
  },
  {
   "cell_type": "code",
   "execution_count": 21,
   "id": "e10c0b81-cb66-4daf-9240-ff9670a8d9b9",
   "metadata": {},
   "outputs": [],
   "source": [
    "stemmer = PorterStemmer()"
   ]
  },
  {
   "cell_type": "code",
   "execution_count": 22,
   "id": "45ecfb9c-e8f4-477d-a806-39f4ddfbcabd",
   "metadata": {},
   "outputs": [],
   "source": [
    "stemmed_words = [ stemmer.stem(word) for word in filtered_tokens]"
   ]
  },
  {
   "cell_type": "code",
   "execution_count": 23,
   "id": "a47f69b0-fda7-417f-a4af-7793dc40c07e",
   "metadata": {},
   "outputs": [
    {
     "data": {
      "text/plain": [
       "['text',\n",
       " 'analyt',\n",
       " 'process',\n",
       " 'analyz',\n",
       " 'unstructur',\n",
       " 'text',\n",
       " 'data',\n",
       " 'deriv',\n",
       " 'meaning',\n",
       " 'insight',\n",
       " 'pattern',\n",
       " '.']"
      ]
     },
     "execution_count": 23,
     "metadata": {},
     "output_type": "execute_result"
    }
   ],
   "source": [
    "stemmed_words"
   ]
  },
  {
   "cell_type": "code",
   "execution_count": 26,
   "id": "e95ebc9f-0896-4e5c-ba1e-ffd41c141505",
   "metadata": {},
   "outputs": [],
   "source": [
    "lemmatizer = WordNetLemmatizer()\n",
    "lemmatized_tokens = [lemmatizer.lemmatize(word) for word in filtered_tokens]"
   ]
  },
  {
   "cell_type": "code",
   "execution_count": 28,
   "id": "a2601a80-d5e1-42ef-814a-18d07b80666b",
   "metadata": {},
   "outputs": [
    {
     "data": {
      "text/plain": [
       "['Text',\n",
       " 'analytics',\n",
       " 'process',\n",
       " 'analyzing',\n",
       " 'unstructured',\n",
       " 'text',\n",
       " 'data',\n",
       " 'derive',\n",
       " 'meaningful',\n",
       " 'insight',\n",
       " 'pattern',\n",
       " '.']"
      ]
     },
     "execution_count": 28,
     "metadata": {},
     "output_type": "execute_result"
    }
   ],
   "source": [
    "lemmatized_tokens"
   ]
  },
  {
   "cell_type": "code",
   "execution_count": 30,
   "id": "abd82248-75d8-4871-9103-7d9a212d56a2",
   "metadata": {},
   "outputs": [],
   "source": [
    "processed_doc = ''.join(lemmatized_tokens)"
   ]
  },
  {
   "cell_type": "code",
   "execution_count": 31,
   "id": "c5ba4e5b-b63f-46c6-850c-7658cbf7e633",
   "metadata": {},
   "outputs": [
    {
     "data": {
      "text/plain": [
       "'Textanalyticsprocessanalyzingunstructuredtextdataderivemeaningfulinsightpattern.'"
      ]
     },
     "execution_count": 31,
     "metadata": {},
     "output_type": "execute_result"
    }
   ],
   "source": [
    "processed_doc"
   ]
  },
  {
   "cell_type": "code",
   "execution_count": 32,
   "id": "9fb7e90c-9e45-4fe5-8788-b42a47347599",
   "metadata": {},
   "outputs": [],
   "source": [
    "from sklearn.feature_extraction.text import TfidfVectorizer"
   ]
  },
  {
   "cell_type": "code",
   "execution_count": 33,
   "id": "9fae3de2-bef1-4f5a-80b4-fe662a635a9c",
   "metadata": {},
   "outputs": [],
   "source": [
    "tfidf_vectorizer = TfidfVectorizer()\n",
    "tfidf_matrix = tfidf_vectorizer.fit_transform([processed_doc])"
   ]
  },
  {
   "cell_type": "code",
   "execution_count": 34,
   "id": "910877fa-3d5f-4535-be96-38edd808298b",
   "metadata": {},
   "outputs": [
    {
     "data": {
      "text/plain": [
       "<1x1 sparse matrix of type '<class 'numpy.float64'>'\n",
       "\twith 1 stored elements in Compressed Sparse Row format>"
      ]
     },
     "execution_count": 34,
     "metadata": {},
     "output_type": "execute_result"
    }
   ],
   "source": [
    "tfidf_matrix"
   ]
  },
  {
   "cell_type": "code",
   "execution_count": 35,
   "id": "992aaee4-9df2-4813-91df-9465620712fb",
   "metadata": {},
   "outputs": [],
   "source": [
    "feature_names = tfidf_vectorizer.get_feature_names_out()"
   ]
  },
  {
   "cell_type": "code",
   "execution_count": 36,
   "id": "6c105583-2526-47c5-8611-f945ac0cff37",
   "metadata": {},
   "outputs": [
    {
     "data": {
      "text/plain": [
       "array(['textanalyticsprocessanalyzingunstructuredtextdataderivemeaningfulinsightpattern'],\n",
       "      dtype=object)"
      ]
     },
     "execution_count": 36,
     "metadata": {},
     "output_type": "execute_result"
    }
   ],
   "source": [
    "feature_names"
   ]
  },
  {
   "cell_type": "code",
   "execution_count": 45,
   "id": "5bd10686-de57-452e-aec8-bf805078ae97",
   "metadata": {},
   "outputs": [
    {
     "name": "stdout",
     "output_type": "stream",
     "text": [
      "textanalyticsprocessanalyzingunstructuredtextdataderivemeaningfulinsightpattern: 1.0\n"
     ]
    }
   ],
   "source": [
    "for col in tfidf_matrix.nonzero()[1]:\n",
    "    print(f\"{feature_names[col]}: {tfidf_matrix[0, col]}\")"
   ]
  },
  {
   "cell_type": "code",
   "execution_count": null,
   "id": "4ec419fa-3131-4021-a833-12a4d4565033",
   "metadata": {},
   "outputs": [],
   "source": []
  }
 ],
 "metadata": {
  "kernelspec": {
   "display_name": "Python 3 (ipykernel)",
   "language": "python",
   "name": "python3"
  },
  "language_info": {
   "codemirror_mode": {
    "name": "ipython",
    "version": 3
   },
   "file_extension": ".py",
   "mimetype": "text/x-python",
   "name": "python",
   "nbconvert_exporter": "python",
   "pygments_lexer": "ipython3",
   "version": "3.11.3"
  }
 },
 "nbformat": 4,
 "nbformat_minor": 5
}
