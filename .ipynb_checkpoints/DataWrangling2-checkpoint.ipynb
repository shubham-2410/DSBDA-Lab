{
 "cells": [
  {
   "cell_type": "code",
   "execution_count": 1,
   "id": "13d3b810-ee27-400d-974c-d663c2b913aa",
   "metadata": {},
   "outputs": [],
   "source": [
    "import pandas as pd\n",
    "import numpy as np\n",
    "import matplotlib.pyplot as plt"
   ]
  },
  {
   "cell_type": "code",
   "execution_count": 2,
   "id": "e3ff87ad-9333-48df-87c8-f462b35617c7",
   "metadata": {},
   "outputs": [],
   "source": [
    "data = {\n",
    "    'Name':['Shubham' , 'Pratik' , 'Siddharth' , 'Sanjivani' , 'Adi' , 'Akash'],\n",
    "    'Age' :[21 , 22, 21 , np.nan   , 23 , 24],\n",
    "    'Math_Score' :[77 , 96 , 85 , 92 , 60 , np.nan],\n",
    "    'Science_Score' :[95 , 96 , np.nan , 95 , 80 , 85],\n",
    "    'Hindi':[np.nan , 73 , 66 , 70 , 65 , 60]\n",
    "}"
   ]
  },
  {
   "cell_type": "code",
   "execution_count": 3,
   "id": "6415ee11-46e3-481d-ba7a-c6fd457cdc8f",
   "metadata": {},
   "outputs": [
    {
     "data": {
      "text/plain": [
       "{'Name': ['Shubham', 'Pratik', 'Siddharth', 'Sanjivani', 'Adi', 'Akash'],\n",
       " 'Age': [21, 22, 21, nan, 23, 24],\n",
       " 'Math_Score': [77, 96, 85, 92, 60, nan],\n",
       " 'Science_Score': [95, 96, nan, 95, 80, 85],\n",
       " 'Hindi': [nan, 73, 66, 70, 65, 60]}"
      ]
     },
     "execution_count": 3,
     "metadata": {},
     "output_type": "execute_result"
    }
   ],
   "source": [
    "data"
   ]
  },
  {
   "cell_type": "code",
   "execution_count": 4,
   "id": "2dfc9271-634e-49f6-9ca4-a289016cd336",
   "metadata": {},
   "outputs": [],
   "source": [
    "df = pd.DataFrame(data)"
   ]
  },
  {
   "cell_type": "code",
   "execution_count": 5,
   "id": "7f75b411-6c28-4d08-921a-6382bfb9fa21",
   "metadata": {},
   "outputs": [
    {
     "data": {
      "text/html": [
       "<div>\n",
       "<style scoped>\n",
       "    .dataframe tbody tr th:only-of-type {\n",
       "        vertical-align: middle;\n",
       "    }\n",
       "\n",
       "    .dataframe tbody tr th {\n",
       "        vertical-align: top;\n",
       "    }\n",
       "\n",
       "    .dataframe thead th {\n",
       "        text-align: right;\n",
       "    }\n",
       "</style>\n",
       "<table border=\"1\" class=\"dataframe\">\n",
       "  <thead>\n",
       "    <tr style=\"text-align: right;\">\n",
       "      <th></th>\n",
       "      <th>Name</th>\n",
       "      <th>Age</th>\n",
       "      <th>Math_Score</th>\n",
       "      <th>Science_Score</th>\n",
       "      <th>Hindi</th>\n",
       "    </tr>\n",
       "  </thead>\n",
       "  <tbody>\n",
       "    <tr>\n",
       "      <th>0</th>\n",
       "      <td>Shubham</td>\n",
       "      <td>21.0</td>\n",
       "      <td>77.0</td>\n",
       "      <td>95.0</td>\n",
       "      <td>NaN</td>\n",
       "    </tr>\n",
       "    <tr>\n",
       "      <th>1</th>\n",
       "      <td>Pratik</td>\n",
       "      <td>22.0</td>\n",
       "      <td>96.0</td>\n",
       "      <td>96.0</td>\n",
       "      <td>73.0</td>\n",
       "    </tr>\n",
       "    <tr>\n",
       "      <th>2</th>\n",
       "      <td>Siddharth</td>\n",
       "      <td>21.0</td>\n",
       "      <td>85.0</td>\n",
       "      <td>NaN</td>\n",
       "      <td>66.0</td>\n",
       "    </tr>\n",
       "    <tr>\n",
       "      <th>3</th>\n",
       "      <td>Sanjivani</td>\n",
       "      <td>NaN</td>\n",
       "      <td>92.0</td>\n",
       "      <td>95.0</td>\n",
       "      <td>70.0</td>\n",
       "    </tr>\n",
       "    <tr>\n",
       "      <th>4</th>\n",
       "      <td>Adi</td>\n",
       "      <td>23.0</td>\n",
       "      <td>60.0</td>\n",
       "      <td>80.0</td>\n",
       "      <td>65.0</td>\n",
       "    </tr>\n",
       "    <tr>\n",
       "      <th>5</th>\n",
       "      <td>Akash</td>\n",
       "      <td>24.0</td>\n",
       "      <td>NaN</td>\n",
       "      <td>85.0</td>\n",
       "      <td>60.0</td>\n",
       "    </tr>\n",
       "  </tbody>\n",
       "</table>\n",
       "</div>"
      ],
      "text/plain": [
       "        Name   Age  Math_Score  Science_Score  Hindi\n",
       "0    Shubham  21.0        77.0           95.0    NaN\n",
       "1     Pratik  22.0        96.0           96.0   73.0\n",
       "2  Siddharth  21.0        85.0            NaN   66.0\n",
       "3  Sanjivani   NaN        92.0           95.0   70.0\n",
       "4        Adi  23.0        60.0           80.0   65.0\n",
       "5      Akash  24.0         NaN           85.0   60.0"
      ]
     },
     "execution_count": 5,
     "metadata": {},
     "output_type": "execute_result"
    }
   ],
   "source": [
    "df"
   ]
  },
  {
   "cell_type": "markdown",
   "id": "add0eaeb-47d4-4416-8f4c-062d1fc467fc",
   "metadata": {},
   "source": [
    "## NULL Values"
   ]
  },
  {
   "cell_type": "code",
   "execution_count": 6,
   "id": "3763b48b-496e-4cb8-80d5-37a7d0f209b4",
   "metadata": {},
   "outputs": [
    {
     "data": {
      "text/plain": [
       "Name             0\n",
       "Age              1\n",
       "Math_Score       1\n",
       "Science_Score    1\n",
       "Hindi            1\n",
       "dtype: int64"
      ]
     },
     "execution_count": 6,
     "metadata": {},
     "output_type": "execute_result"
    }
   ],
   "source": [
    "df.isnull().sum()"
   ]
  },
  {
   "cell_type": "code",
   "execution_count": 7,
   "id": "b8df2d97-c8b5-48c7-ad8d-3b213a92de79",
   "metadata": {},
   "outputs": [
    {
     "name": "stdout",
     "output_type": "stream",
     "text": [
      "<class 'pandas.core.frame.DataFrame'>\n",
      "RangeIndex: 6 entries, 0 to 5\n",
      "Data columns (total 5 columns):\n",
      " #   Column         Non-Null Count  Dtype  \n",
      "---  ------         --------------  -----  \n",
      " 0   Name           6 non-null      object \n",
      " 1   Age            5 non-null      float64\n",
      " 2   Math_Score     5 non-null      float64\n",
      " 3   Science_Score  5 non-null      float64\n",
      " 4   Hindi          5 non-null      float64\n",
      "dtypes: float64(4), object(1)\n",
      "memory usage: 372.0+ bytes\n"
     ]
    }
   ],
   "source": [
    "df.info()"
   ]
  },
  {
   "cell_type": "code",
   "execution_count": 8,
   "id": "e474cab1-25f9-4104-a48f-97a8ad721ef1",
   "metadata": {},
   "outputs": [],
   "source": [
    "df['Age'].fillna(df['Age'].mean() , inplace=True)"
   ]
  },
  {
   "cell_type": "code",
   "execution_count": 9,
   "id": "3c8e05e9-7254-4ea6-832e-8da4d43436c9",
   "metadata": {},
   "outputs": [],
   "source": [
    "df['Math_Score'].ffill(inplace = True)"
   ]
  },
  {
   "cell_type": "code",
   "execution_count": 10,
   "id": "ef24ccc9-4db4-4a9f-b842-c59ff9396f18",
   "metadata": {},
   "outputs": [],
   "source": [
    "df['Science_Score'].bfill(inplace=True)"
   ]
  },
  {
   "cell_type": "code",
   "execution_count": 11,
   "id": "a265bd50-64b8-4b6b-be7f-9b91566d2633",
   "metadata": {},
   "outputs": [],
   "source": [
    "df['Hindi'].fillna(df['Hindi'].mean() , inplace = True)"
   ]
  },
  {
   "cell_type": "code",
   "execution_count": 12,
   "id": "4ec9655e-f8e5-4171-8585-558ac29d32ed",
   "metadata": {},
   "outputs": [
    {
     "data": {
      "text/html": [
       "<div>\n",
       "<style scoped>\n",
       "    .dataframe tbody tr th:only-of-type {\n",
       "        vertical-align: middle;\n",
       "    }\n",
       "\n",
       "    .dataframe tbody tr th {\n",
       "        vertical-align: top;\n",
       "    }\n",
       "\n",
       "    .dataframe thead th {\n",
       "        text-align: right;\n",
       "    }\n",
       "</style>\n",
       "<table border=\"1\" class=\"dataframe\">\n",
       "  <thead>\n",
       "    <tr style=\"text-align: right;\">\n",
       "      <th></th>\n",
       "      <th>Name</th>\n",
       "      <th>Age</th>\n",
       "      <th>Math_Score</th>\n",
       "      <th>Science_Score</th>\n",
       "      <th>Hindi</th>\n",
       "    </tr>\n",
       "  </thead>\n",
       "  <tbody>\n",
       "    <tr>\n",
       "      <th>0</th>\n",
       "      <td>Shubham</td>\n",
       "      <td>21.0</td>\n",
       "      <td>77.0</td>\n",
       "      <td>95.0</td>\n",
       "      <td>66.8</td>\n",
       "    </tr>\n",
       "    <tr>\n",
       "      <th>1</th>\n",
       "      <td>Pratik</td>\n",
       "      <td>22.0</td>\n",
       "      <td>96.0</td>\n",
       "      <td>96.0</td>\n",
       "      <td>73.0</td>\n",
       "    </tr>\n",
       "    <tr>\n",
       "      <th>2</th>\n",
       "      <td>Siddharth</td>\n",
       "      <td>21.0</td>\n",
       "      <td>85.0</td>\n",
       "      <td>95.0</td>\n",
       "      <td>66.0</td>\n",
       "    </tr>\n",
       "    <tr>\n",
       "      <th>3</th>\n",
       "      <td>Sanjivani</td>\n",
       "      <td>22.2</td>\n",
       "      <td>92.0</td>\n",
       "      <td>95.0</td>\n",
       "      <td>70.0</td>\n",
       "    </tr>\n",
       "    <tr>\n",
       "      <th>4</th>\n",
       "      <td>Adi</td>\n",
       "      <td>23.0</td>\n",
       "      <td>60.0</td>\n",
       "      <td>80.0</td>\n",
       "      <td>65.0</td>\n",
       "    </tr>\n",
       "    <tr>\n",
       "      <th>5</th>\n",
       "      <td>Akash</td>\n",
       "      <td>24.0</td>\n",
       "      <td>60.0</td>\n",
       "      <td>85.0</td>\n",
       "      <td>60.0</td>\n",
       "    </tr>\n",
       "  </tbody>\n",
       "</table>\n",
       "</div>"
      ],
      "text/plain": [
       "        Name   Age  Math_Score  Science_Score  Hindi\n",
       "0    Shubham  21.0        77.0           95.0   66.8\n",
       "1     Pratik  22.0        96.0           96.0   73.0\n",
       "2  Siddharth  21.0        85.0           95.0   66.0\n",
       "3  Sanjivani  22.2        92.0           95.0   70.0\n",
       "4        Adi  23.0        60.0           80.0   65.0\n",
       "5      Akash  24.0        60.0           85.0   60.0"
      ]
     },
     "execution_count": 12,
     "metadata": {},
     "output_type": "execute_result"
    }
   ],
   "source": [
    "df"
   ]
  },
  {
   "cell_type": "markdown",
   "id": "66da370a-5edd-4948-8739-954458f3d0c1",
   "metadata": {},
   "source": [
    "## Outliers"
   ]
  },
  {
   "cell_type": "code",
   "execution_count": 13,
   "id": "6dc36400-6cdc-4fe0-81de-c903f73f8ea0",
   "metadata": {},
   "outputs": [],
   "source": [
    "df.loc[0 , 'Hindi'] = 150"
   ]
  },
  {
   "cell_type": "code",
   "execution_count": 14,
   "id": "4ca403cb-0bb6-4ffb-a851-3e499a71e025",
   "metadata": {},
   "outputs": [],
   "source": [
    "df.loc[4 , 'Hindi']= 20"
   ]
  },
  {
   "cell_type": "code",
   "execution_count": 15,
   "id": "a4398d75-659c-425b-b7de-5dd634337583",
   "metadata": {},
   "outputs": [
    {
     "data": {
      "text/html": [
       "<div>\n",
       "<style scoped>\n",
       "    .dataframe tbody tr th:only-of-type {\n",
       "        vertical-align: middle;\n",
       "    }\n",
       "\n",
       "    .dataframe tbody tr th {\n",
       "        vertical-align: top;\n",
       "    }\n",
       "\n",
       "    .dataframe thead th {\n",
       "        text-align: right;\n",
       "    }\n",
       "</style>\n",
       "<table border=\"1\" class=\"dataframe\">\n",
       "  <thead>\n",
       "    <tr style=\"text-align: right;\">\n",
       "      <th></th>\n",
       "      <th>Name</th>\n",
       "      <th>Age</th>\n",
       "      <th>Math_Score</th>\n",
       "      <th>Science_Score</th>\n",
       "      <th>Hindi</th>\n",
       "    </tr>\n",
       "  </thead>\n",
       "  <tbody>\n",
       "    <tr>\n",
       "      <th>0</th>\n",
       "      <td>Shubham</td>\n",
       "      <td>21.0</td>\n",
       "      <td>77.0</td>\n",
       "      <td>95.0</td>\n",
       "      <td>150.0</td>\n",
       "    </tr>\n",
       "    <tr>\n",
       "      <th>1</th>\n",
       "      <td>Pratik</td>\n",
       "      <td>22.0</td>\n",
       "      <td>96.0</td>\n",
       "      <td>96.0</td>\n",
       "      <td>73.0</td>\n",
       "    </tr>\n",
       "    <tr>\n",
       "      <th>2</th>\n",
       "      <td>Siddharth</td>\n",
       "      <td>21.0</td>\n",
       "      <td>85.0</td>\n",
       "      <td>95.0</td>\n",
       "      <td>66.0</td>\n",
       "    </tr>\n",
       "    <tr>\n",
       "      <th>3</th>\n",
       "      <td>Sanjivani</td>\n",
       "      <td>22.2</td>\n",
       "      <td>92.0</td>\n",
       "      <td>95.0</td>\n",
       "      <td>70.0</td>\n",
       "    </tr>\n",
       "    <tr>\n",
       "      <th>4</th>\n",
       "      <td>Adi</td>\n",
       "      <td>23.0</td>\n",
       "      <td>60.0</td>\n",
       "      <td>80.0</td>\n",
       "      <td>20.0</td>\n",
       "    </tr>\n",
       "    <tr>\n",
       "      <th>5</th>\n",
       "      <td>Akash</td>\n",
       "      <td>24.0</td>\n",
       "      <td>60.0</td>\n",
       "      <td>85.0</td>\n",
       "      <td>60.0</td>\n",
       "    </tr>\n",
       "  </tbody>\n",
       "</table>\n",
       "</div>"
      ],
      "text/plain": [
       "        Name   Age  Math_Score  Science_Score  Hindi\n",
       "0    Shubham  21.0        77.0           95.0  150.0\n",
       "1     Pratik  22.0        96.0           96.0   73.0\n",
       "2  Siddharth  21.0        85.0           95.0   66.0\n",
       "3  Sanjivani  22.2        92.0           95.0   70.0\n",
       "4        Adi  23.0        60.0           80.0   20.0\n",
       "5      Akash  24.0        60.0           85.0   60.0"
      ]
     },
     "execution_count": 15,
     "metadata": {},
     "output_type": "execute_result"
    }
   ],
   "source": [
    "df"
   ]
  },
  {
   "cell_type": "code",
   "execution_count": 16,
   "id": "0431ab11-e49e-47f1-84ef-6e0e2c99926b",
   "metadata": {},
   "outputs": [
    {
     "data": {
      "text/plain": [
       "Text(0.5, 1.0, 'Hindi_Score')"
      ]
     },
     "execution_count": 16,
     "metadata": {},
     "output_type": "execute_result"
    },
    {
     "data": {
      "image/png": "[encoded data removed]",
      "text/plain": [
       "<Figure size 1000x500 with 3 Axes>"
      ]
     },
     "metadata": {},
     "output_type": "display_data"
    }
   ],
   "source": [
    "plt.figure(figsize=(10, 5))\n",
    "plt.subplot(1,3, 1)\n",
    "plt.boxplot(df['Math_Score'])\n",
    "plt.title('Math Score')\n",
    "plt.subplot(1, 3, 2)\n",
    "plt.boxplot(df['Age'])\n",
    "plt.title('Age')\n",
    "plt.subplot(1, 3,3)\n",
    "plt.boxplot(df['Hindi'])\n",
    "plt.title('Hindi_Score')"
   ]
  },
  {
   "cell_type": "code",
   "execution_count": 17,
   "id": "62cd1466-e0bc-4022-a1df-9651a8eef13a",
   "metadata": {},
   "outputs": [],
   "source": [
    "q1 = df['Hindi'].quantile(0.25)\n",
    "q3 = df['Hindi'].quantile(0.75)"
   ]
  },
  {
   "cell_type": "code",
   "execution_count": 18,
   "id": "47474890-5c09-4a26-ac7e-3b03921b1542",
   "metadata": {},
   "outputs": [
    {
     "data": {
      "text/plain": [
       "(61.5, 72.25)"
      ]
     },
     "execution_count": 18,
     "metadata": {},
     "output_type": "execute_result"
    }
   ],
   "source": [
    "q1 , q3"
   ]
  },
  {
   "cell_type": "code",
   "execution_count": 19,
   "id": "05460644-ae5a-4829-9c39-a94339545d22",
   "metadata": {},
   "outputs": [],
   "source": [
    "iqr = q3 - q1"
   ]
  },
  {
   "cell_type": "code",
   "execution_count": 20,
   "id": "c13907f2-7eb8-409a-aea8-28d8d748bffb",
   "metadata": {},
   "outputs": [],
   "source": [
    "lb = q1 - 1.5*iqr\n",
    "ub = q3 + 1.5*iqr"
   ]
  },
  {
   "cell_type": "code",
   "execution_count": 21,
   "id": "0c6edad6-67b6-4f3e-aa15-5c87e970c259",
   "metadata": {},
   "outputs": [
    {
     "data": {
      "text/plain": [
       "(45.375, 88.375)"
      ]
     },
     "execution_count": 21,
     "metadata": {},
     "output_type": "execute_result"
    }
   ],
   "source": [
    "lb , ub"
   ]
  },
  {
   "cell_type": "code",
   "execution_count": 25,
   "id": "3f5bf1d1-295e-410c-bf92-634590eb54b6",
   "metadata": {},
   "outputs": [],
   "source": [
    "outliers = df[(df['Hindi']<lb) | (df['Hindi']>ub)]"
   ]
  },
  {
   "cell_type": "code",
   "execution_count": 26,
   "id": "95b06133-e2f2-4e74-a9ae-1dfe237968a5",
   "metadata": {},
   "outputs": [
    {
     "data": {
      "text/html": [
       "<div>\n",
       "<style scoped>\n",
       "    .dataframe tbody tr th:only-of-type {\n",
       "        vertical-align: middle;\n",
       "    }\n",
       "\n",
       "    .dataframe tbody tr th {\n",
       "        vertical-align: top;\n",
       "    }\n",
       "\n",
       "    .dataframe thead th {\n",
       "        text-align: right;\n",
       "    }\n",
       "</style>\n",
       "<table border=\"1\" class=\"dataframe\">\n",
       "  <thead>\n",
       "    <tr style=\"text-align: right;\">\n",
       "      <th></th>\n",
       "      <th>Name</th>\n",
       "      <th>Age</th>\n",
       "      <th>Math_Score</th>\n",
       "      <th>Science_Score</th>\n",
       "      <th>Hindi</th>\n",
       "    </tr>\n",
       "  </thead>\n",
       "  <tbody>\n",
       "    <tr>\n",
       "      <th>0</th>\n",
       "      <td>Shubham</td>\n",
       "      <td>21.0</td>\n",
       "      <td>77.0</td>\n",
       "      <td>95.0</td>\n",
       "      <td>150.0</td>\n",
       "    </tr>\n",
       "    <tr>\n",
       "      <th>4</th>\n",
       "      <td>Adi</td>\n",
       "      <td>23.0</td>\n",
       "      <td>60.0</td>\n",
       "      <td>80.0</td>\n",
       "      <td>20.0</td>\n",
       "    </tr>\n",
       "  </tbody>\n",
       "</table>\n",
       "</div>"
      ],
      "text/plain": [
       "      Name   Age  Math_Score  Science_Score  Hindi\n",
       "0  Shubham  21.0        77.0           95.0  150.0\n",
       "4      Adi  23.0        60.0           80.0   20.0"
      ]
     },
     "execution_count": 26,
     "metadata": {},
     "output_type": "execute_result"
    }
   ],
   "source": [
    "outliers"
   ]
  },
  {
   "cell_type": "code",
   "execution_count": 33,
   "id": "d7c9769a-e8a3-4818-b9e8-11686a49edae",
   "metadata": {},
   "outputs": [
    {
     "data": {
      "text/plain": [
       "6"
      ]
     },
     "execution_count": 33,
     "metadata": {},
     "output_type": "execute_result"
    }
   ],
   "source": [
    "df.shape[0]"
   ]
  },
  {
   "cell_type": "code",
   "execution_count": 38,
   "id": "ebedecc1-f293-4e69-a31c-58974d50c1f3",
   "metadata": {},
   "outputs": [],
   "source": [
    "for i in range(6):\n",
    "    if (df.loc[i , 'Hindi'] > ub):\n",
    "        df.loc[i , 'Hindi'] =ub\n",
    "    elif (df.loc[i , 'Hindi'] < lb):\n",
    "        df.loc[i , 'Hindi']= lb"
   ]
  },
  {
   "cell_type": "code",
   "execution_count": 39,
   "id": "36980610-08fe-4ca6-a1a5-26e33152ae87",
   "metadata": {},
   "outputs": [
    {
     "data": {
      "text/html": [
       "<div>\n",
       "<style scoped>\n",
       "    .dataframe tbody tr th:only-of-type {\n",
       "        vertical-align: middle;\n",
       "    }\n",
       "\n",
       "    .dataframe tbody tr th {\n",
       "        vertical-align: top;\n",
       "    }\n",
       "\n",
       "    .dataframe thead th {\n",
       "        text-align: right;\n",
       "    }\n",
       "</style>\n",
       "<table border=\"1\" class=\"dataframe\">\n",
       "  <thead>\n",
       "    <tr style=\"text-align: right;\">\n",
       "      <th></th>\n",
       "      <th>Name</th>\n",
       "      <th>Age</th>\n",
       "      <th>Math_Score</th>\n",
       "      <th>Science_Score</th>\n",
       "      <th>Hindi</th>\n",
       "    </tr>\n",
       "  </thead>\n",
       "  <tbody>\n",
       "    <tr>\n",
       "      <th>0</th>\n",
       "      <td>Shubham</td>\n",
       "      <td>21.0</td>\n",
       "      <td>77.0</td>\n",
       "      <td>95.0</td>\n",
       "      <td>88.375</td>\n",
       "    </tr>\n",
       "    <tr>\n",
       "      <th>1</th>\n",
       "      <td>Pratik</td>\n",
       "      <td>22.0</td>\n",
       "      <td>96.0</td>\n",
       "      <td>96.0</td>\n",
       "      <td>73.000</td>\n",
       "    </tr>\n",
       "    <tr>\n",
       "      <th>2</th>\n",
       "      <td>Siddharth</td>\n",
       "      <td>21.0</td>\n",
       "      <td>85.0</td>\n",
       "      <td>95.0</td>\n",
       "      <td>66.000</td>\n",
       "    </tr>\n",
       "    <tr>\n",
       "      <th>3</th>\n",
       "      <td>Sanjivani</td>\n",
       "      <td>22.2</td>\n",
       "      <td>92.0</td>\n",
       "      <td>95.0</td>\n",
       "      <td>70.000</td>\n",
       "    </tr>\n",
       "    <tr>\n",
       "      <th>4</th>\n",
       "      <td>Adi</td>\n",
       "      <td>23.0</td>\n",
       "      <td>60.0</td>\n",
       "      <td>80.0</td>\n",
       "      <td>45.375</td>\n",
       "    </tr>\n",
       "    <tr>\n",
       "      <th>5</th>\n",
       "      <td>Akash</td>\n",
       "      <td>24.0</td>\n",
       "      <td>60.0</td>\n",
       "      <td>85.0</td>\n",
       "      <td>60.000</td>\n",
       "    </tr>\n",
       "  </tbody>\n",
       "</table>\n",
       "</div>"
      ],
      "text/plain": [
       "        Name   Age  Math_Score  Science_Score   Hindi\n",
       "0    Shubham  21.0        77.0           95.0  88.375\n",
       "1     Pratik  22.0        96.0           96.0  73.000\n",
       "2  Siddharth  21.0        85.0           95.0  66.000\n",
       "3  Sanjivani  22.2        92.0           95.0  70.000\n",
       "4        Adi  23.0        60.0           80.0  45.375\n",
       "5      Akash  24.0        60.0           85.0  60.000"
      ]
     },
     "execution_count": 39,
     "metadata": {},
     "output_type": "execute_result"
    }
   ],
   "source": [
    "df"
   ]
  },
  {
   "cell_type": "code",
   "execution_count": 42,
   "id": "b31ab563-cb14-45f5-9bc4-b62248ce5501",
   "metadata": {},
   "outputs": [],
   "source": [
    "df['Hindi'] =df['Hindi'].astype('int64')"
   ]
  },
  {
   "cell_type": "code",
   "execution_count": 43,
   "id": "5a29800a-e69d-4541-95fc-3d3f2ca81637",
   "metadata": {},
   "outputs": [
    {
     "data": {
      "text/html": [
       "<div>\n",
       "<style scoped>\n",
       "    .dataframe tbody tr th:only-of-type {\n",
       "        vertical-align: middle;\n",
       "    }\n",
       "\n",
       "    .dataframe tbody tr th {\n",
       "        vertical-align: top;\n",
       "    }\n",
       "\n",
       "    .dataframe thead th {\n",
       "        text-align: right;\n",
       "    }\n",
       "</style>\n",
       "<table border=\"1\" class=\"dataframe\">\n",
       "  <thead>\n",
       "    <tr style=\"text-align: right;\">\n",
       "      <th></th>\n",
       "      <th>Name</th>\n",
       "      <th>Age</th>\n",
       "      <th>Math_Score</th>\n",
       "      <th>Science_Score</th>\n",
       "      <th>Hindi</th>\n",
       "    </tr>\n",
       "  </thead>\n",
       "  <tbody>\n",
       "    <tr>\n",
       "      <th>0</th>\n",
       "      <td>Shubham</td>\n",
       "      <td>21.0</td>\n",
       "      <td>77.0</td>\n",
       "      <td>95.0</td>\n",
       "      <td>88</td>\n",
       "    </tr>\n",
       "    <tr>\n",
       "      <th>1</th>\n",
       "      <td>Pratik</td>\n",
       "      <td>22.0</td>\n",
       "      <td>96.0</td>\n",
       "      <td>96.0</td>\n",
       "      <td>73</td>\n",
       "    </tr>\n",
       "    <tr>\n",
       "      <th>2</th>\n",
       "      <td>Siddharth</td>\n",
       "      <td>21.0</td>\n",
       "      <td>85.0</td>\n",
       "      <td>95.0</td>\n",
       "      <td>66</td>\n",
       "    </tr>\n",
       "    <tr>\n",
       "      <th>3</th>\n",
       "      <td>Sanjivani</td>\n",
       "      <td>22.2</td>\n",
       "      <td>92.0</td>\n",
       "      <td>95.0</td>\n",
       "      <td>70</td>\n",
       "    </tr>\n",
       "    <tr>\n",
       "      <th>4</th>\n",
       "      <td>Adi</td>\n",
       "      <td>23.0</td>\n",
       "      <td>60.0</td>\n",
       "      <td>80.0</td>\n",
       "      <td>45</td>\n",
       "    </tr>\n",
       "    <tr>\n",
       "      <th>5</th>\n",
       "      <td>Akash</td>\n",
       "      <td>24.0</td>\n",
       "      <td>60.0</td>\n",
       "      <td>85.0</td>\n",
       "      <td>60</td>\n",
       "    </tr>\n",
       "  </tbody>\n",
       "</table>\n",
       "</div>"
      ],
      "text/plain": [
       "        Name   Age  Math_Score  Science_Score  Hindi\n",
       "0    Shubham  21.0        77.0           95.0     88\n",
       "1     Pratik  22.0        96.0           96.0     73\n",
       "2  Siddharth  21.0        85.0           95.0     66\n",
       "3  Sanjivani  22.2        92.0           95.0     70\n",
       "4        Adi  23.0        60.0           80.0     45\n",
       "5      Akash  24.0        60.0           85.0     60"
      ]
     },
     "execution_count": 43,
     "metadata": {},
     "output_type": "execute_result"
    }
   ],
   "source": [
    "df"
   ]
  },
  {
   "cell_type": "markdown",
   "id": "d6560a6b-f8ac-4282-9e38-c2d576d3c075",
   "metadata": {},
   "source": [
    "## Transformation"
   ]
  },
  {
   "cell_type": "code",
   "execution_count": 45,
   "id": "b6fdb54b-f41b-42c3-9e35-6c6188ff0a81",
   "metadata": {},
   "outputs": [],
   "source": [
    "from scipy.stats import boxcox\n",
    "from sklearn.preprocessing import MinMaxScaler"
   ]
  },
  {
   "cell_type": "code",
   "execution_count": 48,
   "id": "8b7f4a42-4a6a-4f2e-92bf-0c583caa0d4d",
   "metadata": {},
   "outputs": [
    {
     "name": "stdout",
     "output_type": "stream",
     "text": [
      "3. Data transformation:\n",
      "Transformed Dataset:\n",
      "        Name   Age  Math_Score  Science_Score  Hindi  Math_Score_Transformed  \\\n",
      "0    Shubham  21.0        77.0           95.0     88              630.665326   \n",
      "1     Pratik  22.0        96.0           96.0     73              896.072576   \n",
      "2  Siddharth  21.0        85.0           95.0     66              738.199707   \n",
      "3  Sanjivani  22.2        92.0           95.0     70              837.353956   \n",
      "4        Adi  23.0        60.0           80.0     45              423.825114   \n",
      "5      Akash  24.0        60.0           85.0     60              423.825114   \n",
      "\n",
      "   Age_Scaled  \n",
      "0    0.000000  \n",
      "1    0.333333  \n",
      "2    0.000000  \n",
      "3    0.400000  \n",
      "4    0.666667  \n",
      "5    1.000000  \n"
     ]
    }
   ],
   "source": [
    "print(\"3. Data transformation:\")\n",
    "\n",
    "# Applying Box-Cox transformation to Math Score\n",
    "df['Math_Score_Transformed'], _ = boxcox(df['Math_Score'])\n",
    "\n",
    "# Applying Min-Max scaling to Age\n",
    "scaler = MinMaxScaler()\n",
    "df['Age_Scaled'] = scaler.fit_transform(df[['Age']])\n",
    "\n",
    "# Display transformed dataset\n",
    "print(\"Transformed Dataset:\")\n",
    "print(df)"
   ]
  },
  {
   "cell_type": "code",
   "execution_count": 56,
   "id": "ca5d0bcb-1ef2-4864-a77e-f8b9de5538ac",
   "metadata": {},
   "outputs": [
    {
     "data": {
      "image/png": "[encoded data removed]",
      "text/plain": [
       "<Figure size 600x400 with 2 Axes>"
      ]
     },
     "metadata": {},
     "output_type": "display_data"
    }
   ],
   "source": [
    "import pandas as pd\n",
    "import numpy as np\n",
    "import matplotlib.pyplot as plt\n",
    "import seaborn as sns\n",
    "\n",
    "# Create a sample dataset\n",
    "data = {\n",
    "    'Student_ID': [1, 2, 3, 4, 5],\n",
    "    'Math_Score': [85, 90, 75, 60, 92],\n",
    "    'Science_Score': [78, 85, 70, 55, 90],\n",
    "    'English_Score': [80, 88, 72, 67, 85],\n",
    "    'Hindi_Score': [85, 88, 70, 60, 90],\n",
    "    'Fees': [1000, 1200, 800, 600, 1500]\n",
    "}\n",
    "\n",
    "df = pd.DataFrame(data)\n",
    "\n",
    "# Apply logarithmic transformation to 'Fees'\n",
    "df['Fees_Log'] = np.log(df['Fees'])\n",
    "\n",
    "# Plot histograms to observe the transformation effect\n",
    "plt.figure(figsize=(6, 4))\n",
    "plt.subplot(1 , 2 , 1)\n",
    "sns.histplot(data=df, x='Fees', kde=True, color='blue', bins=10)\n",
    "plt.subplot(1,2,2)\n",
    "sns.histplot(data=df, x='Fees_Log', kde=True, color='blue', bins=10)\n",
    "plt.title('Histogram of Log-transformed Fees')\n",
    "plt.xlabel('Log-transformed Fees')\n",
    "\n",
    "plt.tight_layout()\n",
    "plt.show()\n"
   ]
  },
  {
   "cell_type": "code",
   "execution_count": 57,
   "id": "3fb82aed-8cfb-454e-a48d-e12dbd2131dc",
   "metadata": {},
   "outputs": [
    {
     "name": "stdout",
     "output_type": "stream",
     "text": [
      "          A          B\n",
      "0  0.000000   2.302585\n",
      "1  0.693147   4.605170\n",
      "2  1.098612   6.907755\n",
      "3  1.386294   9.210340\n",
      "4  1.609438  11.512925\n"
     ]
    }
   ],
   "source": [
    "data = {\n",
    "    'A': [1, 2, 3, 4, 5],\n",
    "    'B': [10, 100, 1000, 10000, 100000]\n",
    "}\n",
    "\n",
    "df = pd.DataFrame(data)\n",
    "\n",
    "# Logarithmic transformation\n",
    "df_log = np.log(df)\n",
    "\n",
    "print(df_log)"
   ]
  },
  {
   "cell_type": "code",
   "execution_count": null,
   "id": "ed4da571-d562-4f88-a731-835dda119635",
   "metadata": {},
   "outputs": [],
   "source": []
  }
 ],
 "metadata": {
  "kernelspec": {
   "display_name": "Python 3 (ipykernel)",
   "language": "python",
   "name": "python3"
  },
  "language_info": {
   "codemirror_mode": {
    "name": "ipython",
    "version": 3
   },
   "file_extension": ".py",
   "mimetype": "text/x-python",
   "name": "python",
   "nbconvert_exporter": "python",
   "pygments_lexer": "ipython3",
   "version": "3.11.3"
  }
 },
 "nbformat": 4,
 "nbformat_minor": 5
}
